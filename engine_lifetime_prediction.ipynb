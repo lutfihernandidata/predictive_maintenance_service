{
 "cells": [
  {
   "cell_type": "code",
   "execution_count": 1,
   "metadata": {},
   "outputs": [],
   "source": [
    "import pyodbc\n",
    "import pandas as pd\n",
    "import numpy as np\n",
    "from pandasql import sqldf\n",
    "from datetime import datetime, timedelta\n",
    "from matplotlib import pyplot as plt\n",
    "from ut_connection_lib import Connection, Query\n",
    "from ut_pdm_tools_lib import CommonFunctions\n",
    "from sklearn.pipeline import Pipeline\n",
    "from sklearn.compose import ColumnTransformer\n",
    "from sklearn.preprocessing import OneHotEncoder, LabelEncoder\n",
    "from ut_data_preprocessing_lib import \\\n",
    "    VHMSReplaceSensorErrorValue, DeriveInteractionFeatures, DfMapMinMaxScaler, DfStandardScaler, FeaturesSelector, \\\n",
    "    RemoveByThreshold, InverseTransfromStandardScaller\n",
    "    \n",
    "from sklearn.cluster import KMeans\n",
    "from sklearn.metrics import silhouette_score\n",
    "\n",
    "pd.options.mode.chained_assignment = None  # default='warn'"
   ]
  },
  {
   "cell_type": "markdown",
   "metadata": {},
   "source": [
    "## Get Data From Database"
   ]
  },
  {
   "cell_type": "code",
   "execution_count": null,
   "metadata": {},
   "outputs": [],
   "source": [
    "prod_connection = Connection(dbname=\"PROD\")\n",
    "dev_connection = Connection(dbname=\"DEVELOPMENT\")"
   ]
  },
  {
   "cell_type": "code",
   "execution_count": null,
   "metadata": {},
   "outputs": [],
   "source": [
    "unit_population_history_query = Query(source_file=\"sql_query/sql_query_unit_population_history.txt\")\n",
    "unit_population_latest_query = Query(source_file=\"sql_query/sql_query_unit_population_latest.txt\")\n",
    "vhms_trend_hd785_query = Query(source_file=\"sql_query/sql_query_vhms_trend_hd785.txt\")\n",
    "vhms_payload_hd785_daily_query = Query(source_file=\"sql_query/sql_query_vhms_payload_hd785_daily_summary.txt\")\n",
    "vhms_fault_hd785_query = Query(source_file=\"sql_query/sql_query_vhms_fault_hd785.txt\")\n",
    "vhms_chastrend_hd785_query = Query(source_file=\"sql_query/sql_query_chastrend_hd785.txt\")\n",
    "pap_oil_query = Query(source_file=\"sql_query/sql_query_pap_oil.txt\")"
   ]
  },
  {
   "cell_type": "code",
   "execution_count": null,
   "metadata": {},
   "outputs": [],
   "source": [
    "unit_population_history = unit_population_history_query.execute(prod_connection)\n",
    "unit_population_latest = unit_population_latest_query.execute(prod_connection)\n",
    "vhms_trend_hd785 = vhms_trend_hd785_query.execute(prod_connection)\n",
    "vhms_pld_hd785_daily = vhms_payload_hd785_daily_query.execute(prod_connection)\n",
    "vhms_chastrend_hd785 = vhms_chastrend_hd785_query.execute(prod_connection)\n",
    "pap_oil = pap_oil_query.execute(prod_connection)"
   ]
  },
  {
   "cell_type": "markdown",
   "metadata": {},
   "source": [
    "## Get Data From Local File"
   ]
  },
  {
   "cell_type": "markdown",
   "metadata": {
    "scrolled": true
   },
   "source": [
    "unit_population_history = pd.read_excel('local_data/unit_population_history.xlsx')\n",
    "unit_population_latest = pd.read_excel('local_data/unit_population_latest.xlsx')\n",
    "hist_comp_repl = pd.read_excel('local_data/historical_component_replacement.xlsx')\n",
    "vhms_trend_hd785 = pd.read_excel('local_data/vhms_trend_hd785.xlsx')\n",
    "vhms_fault_hd785 = pd.read_excel('local_data/vhms_fault_hd785.xlsx')\n",
    "vhms_chastrend_hd785 = pd.read_excel('local_data/vhms_chastrend_hd785.xlsx')\n",
    "vhms_pld_hd785_daily = pd.read_excel('local_data/vhms_pld_hd785_daily.xlsx')\n",
    "pap_oil = pd.read_excel('local_data/pap_oil.xlsx')"
   ]
  },
  {
   "cell_type": "markdown",
   "metadata": {},
   "source": [
    "# VHMS Data Processing As Primary Data"
   ]
  },
  {
   "cell_type": "code",
   "execution_count": 3,
   "metadata": {
    "scrolled": true
   },
   "outputs": [
    {
     "name": "stdout",
     "output_type": "stream",
     "text": [
      "Number of units: 481\n",
      "Number of records: 534760\n"
     ]
    }
   ],
   "source": [
    "# Select VHMS records that meet criteria\n",
    "\n",
    "vhms_completeness_report = pd.read_excel(\"vhms_completeness_report.xlsx\")\n",
    "srl_num_passed = vhms_completeness_report[\n",
    "    (vhms_completeness_report['COMPLETENESS']<2) & # ensure no duplication\n",
    "    (vhms_completeness_report['COUNT']>=500) & # ensure data size\n",
    "    (vhms_completeness_report['COMPLETENESS']>=0.75) # ensure data completeness\n",
    "]['MCHN_SRL_NUM'].drop_duplicates().tolist()\n",
    "\n",
    "# Select VHMS that match criteria\n",
    "vhms_trend_hd785_selected = vhms_trend_hd785[\n",
    "    (vhms_trend_hd785[\"UNIT_SRL_NUM\"].isin(srl_num_passed)) &\n",
    "    (vhms_trend_hd785[\"COOL_TEMP_MX\"]>vhms_trend_hd785[\"AMBIENT_TEMPMAX\"]) &\n",
    "    (vhms_trend_hd785[\"TRAVELSPEED_MX\"]>0) &\n",
    "    (vhms_trend_hd785[\"ENG_SPEED_MX\"]>0) \n",
    "].reset_index(drop=True)\n",
    "vhms_trend_hd785_selected['UNIT_SRL_NUM'] = vhms_trend_hd785_selected['UNIT_SRL_NUM'].astype(str)\n",
    "\n",
    "print(\"Number of units: {}\".format(len(srl_num_passed)))\n",
    "print(\"Number of records: {}\".format(len(vhms_trend_hd785_selected)))"
   ]
  },
  {
   "cell_type": "code",
   "execution_count": 283,
   "metadata": {},
   "outputs": [],
   "source": [
    "# Initialize preprocessing classes\n",
    "derivative_expressions = CommonFunctions.read_from_file(\"parameters/engine_derivative_params.txt\")\n",
    "vhms_params = CommonFunctions.read_from_file(\"parameters/engine_vhms_params.txt\")\n",
    "vhms_param_name = np.array([s.split(\", \")[0] for s in vhms_params])\n",
    "vhms_param_source = np.array([s.split(\", \")[1] for s in vhms_params])\n",
    "vhms_param_used = np.array([s.split(\", \")[2] for s in vhms_params])\n",
    "primary_features = vhms_param_name[np.where(vhms_param_source=='PRIMARY')]\n",
    "final_features = vhms_param_name[np.where(vhms_param_used=='TRUE')]\n",
    "z_score_anomaly_thres = [(-3,3 )]*len(final_features)"
   ]
  },
  {
   "cell_type": "markdown",
   "metadata": {},
   "source": [
    "## Preprocess for VHMS Early As Healthy Sample\n",
    "\n",
    "Health VHMS sample comes from 2 sources. Early SMR between 500 to 1000 hours and early SMR of later engine replacement"
   ]
  },
  {
   "cell_type": "code",
   "execution_count": 284,
   "metadata": {},
   "outputs": [
    {
     "name": "stdout",
     "output_type": "stream",
     "text": [
      "2019-04-24 13:19:20: Fitting sensor error scaler with data\n",
      "\t2019-04-24 13:19:20: Separate sensor value from mean calculation\n",
      "\t2019-04-24 13:19:20: Computing average value of each equipment\n",
      "\t2019-04-24 13:19:21: Computing average value of all equipment\n",
      "\t2019-04-24 13:19:21: Finish fitting scaler\n",
      "2019-04-24 13:19:21: Transforming data\n",
      "\t2019-04-24 13:19:21: Replacing error value with average for each serial number\n",
      "2019-04-24 13:19:21: Deriving expression \n",
      "\tX['MED_EXH_TEMP'] = X[['LF_EXH_TEMP_MX', 'LR_EXH_TEMP_MX', 'RF_EXH_TEMP_MX', 'RR_EXH_TEMP_MX']].median(axis=1)\n",
      "2019-04-24 13:19:21: Deriving expression \n",
      "\tX['COOL_TEMP_MID'] = (X['COOL_TEMP_MX'] + X['COOL_TEMP_MN'])/2\n",
      "2019-04-24 13:19:21: Deriving expression \n",
      "\tX['COOL_TEMP_RANGE'] = (X['COOL_TEMP_MX'] - X['COOL_TEMP_MN'])\n",
      "2019-04-24 13:19:21: Deriving expression \n",
      "\tX['FUEL_PER_ENGINE_CYCLE'] = X['FUEL_RATE']*1E6/(60*X['ENG_SPEED_AV'])\n",
      "2019-04-24 13:19:21: Deriving expression \n",
      "\tX['COOL_TEMP_GRADIENT'] = X['ENG_OIL_TMP_MX']/X['COOL_TEMP_MX']\n",
      "2019-04-24 13:19:21: Deriving expression \n",
      "\tX['ENG_SPEED_RANGE'] = X['ENG_SPEED_MX'] - X['ENG_SPEED_AV']\n",
      "2019-04-24 13:19:21: Deriving expression \n",
      "\tX['RPM_TO_SPEED_RATIO'] = np.log(X['ENG_SPEED_MX'].tolist())/np.log(X['TRAVELSPEED_MX'].tolist())\n"
     ]
    },
    {
     "name": "stderr",
     "output_type": "stream",
     "text": [
      "C:\\Users\\80117059\\AppData\\Local\\Continuum\\anaconda3\\lib\\site-packages\\sklearn\\preprocessing\\data.py:645: DataConversionWarning: Data with input dtype float64, object were all converted to float64 by StandardScaler.\n",
      "  return self.partial_fit(X, y)\n",
      "D:\\My Work - United Tractors\\Data Scientist Team\\RUL Redevelopment\\ut_data_preprocessing_lib.py:71: DataConversionWarning: Data with input dtype float64, object were all converted to float64 by StandardScaler.\n",
      "  X.loc[:,self.features] = self.standardscaler.transform(X[self.features])\n"
     ]
    }
   ],
   "source": [
    "vhms_hd785_early = vhms_trend_hd785_selected[(vhms_trend_hd785_selected['SMR']<1500) & \n",
    "                                             (vhms_trend_hd785_selected['SMR']>500)]\n",
    "\n",
    "standard_scaler = DfStandardScaler(final_features)\n",
    "vhms_early_cleaning_pipe = Pipeline([\n",
    "    ('sensor-error-handling', VHMSReplaceSensorErrorValue(primary_features)),\n",
    "    ('features-derivator', DeriveInteractionFeatures(derivative_expressions)), \n",
    "    ('standard-scaler', standard_scaler),\n",
    "    ('anomaly-removal', RemoveByThreshold(final_features, z_score_anomaly_thres)),\n",
    "    ('inverse-standard-scaller', InverseTransfromStandardScaller(standard_scaler))\n",
    "])\n",
    "vhms_hd785_early_transformed = vhms_early_cleaning_pipe.fit_transform(vhms_hd785_early.copy())\n",
    "vhms_hd785_early_transformed['TIMESTAMP'] = vhms_hd785_early_transformed['TIMESTAMP'].map(lambda x: str(x)[:19])\n",
    "vhms_hd785_early_transformed['failure'] = 0"
   ]
  },
  {
   "cell_type": "markdown",
   "metadata": {},
   "source": [
    "### Some equipments are discarded due to abnormality in early lifetime "
   ]
  },
  {
   "cell_type": "code",
   "execution_count": 285,
   "metadata": {},
   "outputs": [
    {
     "data": {
      "text/html": [
       "<div>\n",
       "<style scoped>\n",
       "    .dataframe tbody tr th:only-of-type {\n",
       "        vertical-align: middle;\n",
       "    }\n",
       "\n",
       "    .dataframe tbody tr th {\n",
       "        vertical-align: top;\n",
       "    }\n",
       "\n",
       "    .dataframe thead th {\n",
       "        text-align: right;\n",
       "    }\n",
       "</style>\n",
       "<table border=\"1\" class=\"dataframe\">\n",
       "  <thead>\n",
       "    <tr style=\"text-align: right;\">\n",
       "      <th></th>\n",
       "      <th>SRL_NUM</th>\n",
       "      <th>MODL_NUM</th>\n",
       "      <th>ROOM</th>\n",
       "      <th>PLNT</th>\n",
       "      <th>SORT_FLD</th>\n",
       "      <th>CUSTOMER_NAME</th>\n",
       "      <th>CONTRACT</th>\n",
       "      <th>LAST_UPDATED_DATE</th>\n",
       "    </tr>\n",
       "  </thead>\n",
       "  <tbody>\n",
       "    <tr>\n",
       "      <th>0</th>\n",
       "      <td>30183</td>\n",
       "      <td>HD785-7</td>\n",
       "      <td>HD1143</td>\n",
       "      <td>BKJ</td>\n",
       "      <td>NaN</td>\n",
       "      <td>SIMS JAYA KALTIM</td>\n",
       "      <td>FMC</td>\n",
       "      <td>2014-06-13</td>\n",
       "    </tr>\n",
       "    <tr>\n",
       "      <th>1</th>\n",
       "      <td>7436</td>\n",
       "      <td>HD785-7</td>\n",
       "      <td>DT3293</td>\n",
       "      <td>BNT</td>\n",
       "      <td>NaN</td>\n",
       "      <td>PAMAPERSADA NUSANTARA</td>\n",
       "      <td>NON-FMC</td>\n",
       "      <td>2011-12-20</td>\n",
       "    </tr>\n",
       "    <tr>\n",
       "      <th>2</th>\n",
       "      <td>7914</td>\n",
       "      <td>HD785-7</td>\n",
       "      <td>NaN</td>\n",
       "      <td>ADR</td>\n",
       "      <td>ADARO</td>\n",
       "      <td>PAMAPERSADA NUSANTARA</td>\n",
       "      <td>NON-FMC</td>\n",
       "      <td>2014-05-12</td>\n",
       "    </tr>\n",
       "    <tr>\n",
       "      <th>3</th>\n",
       "      <td>7994</td>\n",
       "      <td>HD785-7</td>\n",
       "      <td>DT3568</td>\n",
       "      <td>BDI</td>\n",
       "      <td>MUTASI DARI BONTANG</td>\n",
       "      <td>PAMAPERSADA NUSANTARA</td>\n",
       "      <td>NON-FMC</td>\n",
       "      <td>2019-02-25</td>\n",
       "    </tr>\n",
       "  </tbody>\n",
       "</table>\n",
       "</div>"
      ],
      "text/plain": [
       "  SRL_NUM MODL_NUM    ROOM PLNT             SORT_FLD          CUSTOMER_NAME  \\\n",
       "0   30183  HD785-7  HD1143  BKJ                  NaN       SIMS JAYA KALTIM   \n",
       "1    7436  HD785-7  DT3293  BNT                  NaN  PAMAPERSADA NUSANTARA   \n",
       "2    7914  HD785-7     NaN  ADR                ADARO  PAMAPERSADA NUSANTARA   \n",
       "3    7994  HD785-7  DT3568  BDI  MUTASI DARI BONTANG  PAMAPERSADA NUSANTARA   \n",
       "\n",
       "  CONTRACT LAST_UPDATED_DATE  \n",
       "0      FMC        2014-06-13  \n",
       "1  NON-FMC        2011-12-20  \n",
       "2  NON-FMC        2014-05-12  \n",
       "3  NON-FMC        2019-02-25  "
      ]
     },
     "execution_count": 285,
     "metadata": {},
     "output_type": "execute_result"
    }
   ],
   "source": [
    "unit_discarded = vhms_hd785_early[\n",
    "    ~vhms_hd785_early['UNIT_SRL_NUM'].isin(vhms_hd785_early_transformed['UNIT_SRL_NUM'].tolist())\n",
    "]['UNIT_SRL_NUM'].drop_duplicates().tolist()\n",
    "\n",
    "discarded_units = unit_population_latest[\n",
    "    unit_population_latest['SRL_NUM'].isin(unit_discarded)].sort_values('SRL_NUM').reset_index(drop=True)\n",
    "discarded_units"
   ]
  },
  {
   "cell_type": "markdown",
   "metadata": {},
   "source": [
    "## Discover Degrading VHMS as Failure Example"
   ]
  },
  {
   "cell_type": "code",
   "execution_count": 286,
   "metadata": {
    "scrolled": true
   },
   "outputs": [],
   "source": [
    "# VHMS failure from component replacement (late SMR)\n",
    "\n",
    "sch_replacement = hist_comp_repl[(hist_comp_repl['MODL_UNIT']=='HD785-7') &  \n",
    "                                 (hist_comp_repl['COMPONENT']=='ENGINE ASSY') & \n",
    "                                 (hist_comp_repl['LIFETIME_HOUR']>=20000) &\n",
    "                                 (hist_comp_repl['STATUS']=='SCH')][['SRL_NUM', 'STATUS', 'END_HM', 'LIFETIME_HOUR']]\n",
    "sch_replacement['RUN_TO_FAILURE'] = sch_replacement['LIFETIME_HOUR'].apply(lambda x: 0.02*x if x<=25000 else 0.02*25000)\n",
    "\n",
    "usc_replacement = hist_comp_repl[(hist_comp_repl['MODL_UNIT']=='HD785-7') &  \n",
    "                                 (hist_comp_repl['COMPONENT']=='ENGINE ASSY') & \n",
    "                                 (hist_comp_repl['STATUS']=='USC')][['SRL_NUM', 'STATUS', 'END_HM', 'LIFETIME_HOUR']]\n",
    "usc_replacement['RUN_TO_FAILURE'] = 250\n",
    "\n",
    "engine_replacement = pd.concat([sch_replacement, usc_replacement])\n",
    "engine_replacement.columns = ['UNIT_SRL_NUM', 'STATUS', 'END_HM', 'LIFETIME', 'RUN_TO_FAILURE']\n",
    "\n",
    "vhms_from_replacement = pd.merge(engine_replacement, vhms_trend_hd785_selected, how='inner', on='UNIT_SRL_NUM')\n",
    "vhms_from_replacement = \\\n",
    "    vhms_from_replacement[\n",
    "        (vhms_from_replacement['SMR'] > vhms_from_replacement['END_HM']-vhms_from_replacement['RUN_TO_FAILURE']) & \n",
    "        (vhms_from_replacement['SMR'] <= vhms_from_replacement['END_HM'])][vhms_trend_hd785.columns]"
   ]
  },
  {
   "cell_type": "code",
   "execution_count": 287,
   "metadata": {
    "scrolled": true
   },
   "outputs": [],
   "source": [
    "def label_vhms_from_fault(vhms_trend, vhms_fault, fault_code, minimum_duration):\n",
    "    vhms_fault_specific = vhms_fault[(vhms_fault['CODE']==fault_code) & \n",
    "                                   (vhms_fault['TOTAL_DURATION_MINUTES'] >= minimum_duration)].copy()\n",
    "    vhms_fault_specific['NUM_DAYS'] = \\\n",
    "        (vhms_fault_specific['TO_DATE'].astype(datetime) - vhms_fault_specific['FROM_DATE'].astype(datetime))/np.timedelta64(1, 'D')\n",
    "    vhms_fault_specific.columns = ['UNIT_SRL_NUM'] + vhms_fault_specific.columns.tolist()[1:]\n",
    "    \n",
    "    pysql = lambda q: sqldf(q, locals())\n",
    "    \n",
    "    query = \"\"\"\n",
    "        SELECT \n",
    "            trend.*\n",
    "        FROM vhms_fault_specific fault\n",
    "        INNER JOIN vhms_trend trend\n",
    "            ON fault.UNIT_SRL_NUM = trend.UNIT_SRL_NUM AND\n",
    "               trend.TIMESTAMP >= date(fault.FROM_DATE,'-1 day') AND --fault.FROM_DATE - INTERVAL'2 DAYS'\n",
    "               trend.TIMESTAMP < fault.TO_DATE\n",
    "        WHERE fault.TOTAL_DURATION_MINUTES/fault.NUM_DAYS >= {0}\n",
    "        ORDER BY UNIT_SRL_NUM, TIMESTAMP\n",
    "    \"\"\".format(minimum_duration)\n",
    "    vhms_from_fault = sqldf(query, locals())\n",
    "    return vhms_from_fault"
   ]
  },
  {
   "cell_type": "code",
   "execution_count": 288,
   "metadata": {},
   "outputs": [],
   "source": [
    "def reduce_by_key(data, group_key, sort_key, ascending=False):\n",
    "    data_dedup = data.sort_values(group_key + sort_key, ascending=ascending).drop_duplicates(group_key, keep='first').copy()\n",
    "    for key in group_key:\n",
    "        data_dedup = data_dedup[data_dedup[key]==data_dedup[key]]\n",
    "    return data_dedup"
   ]
  },
  {
   "cell_type": "code",
   "execution_count": 289,
   "metadata": {},
   "outputs": [],
   "source": [
    "# VHMS failure from fault code occurence\n",
    "\n",
    "# Lowering Of Engine Oil Pressure\n",
    "vhms_from_fault_babazg = label_vhms_from_fault(vhms_trend_hd785_selected, vhms_fault_hd785, \"B@BAZG\", 30)\n",
    "# Lowering of engine oil level\n",
    "vhms_from_fault_babazk =label_vhms_from_fault(vhms_trend_hd785_selected, vhms_fault_hd785, \"B@BAZK\", 30)\n",
    "# Engine Overheat\n",
    "vhms_from_fault_babcns =label_vhms_from_fault(vhms_trend_hd785_selected, vhms_fault_hd785, \"B@BCNS\", 30)\n",
    "# Blowby Pressure High > 10 KPa\n",
    "vhms_from_fault_fabbzl =label_vhms_from_fault(vhms_trend_hd785_selected, vhms_fault_hd785, \"F@BBZL\", 60)\n",
    "vhms_from_fault_fabbzl = vhms_from_fault_fabbzl[vhms_from_fault_fabbzl['BLOWBY_PRESS_MX']>30]\n",
    "\n",
    "# Union all\n",
    "vhms_from_fault = pd.concat([vhms_from_fault_babazg, vhms_from_fault_babazk, \n",
    "                             vhms_from_fault_babcns, vhms_from_fault_fabbzl]).drop_duplicates()"
   ]
  },
  {
   "cell_type": "code",
   "execution_count": 290,
   "metadata": {},
   "outputs": [],
   "source": [
    "# VHMS failure from rule abnormality\n",
    "\n",
    "vhms_from_rule_abnormality = vhms_trend_hd785_selected[\n",
    "# high blowby press\n",
    "    (vhms_trend_hd785_selected['BLOWBY_PRESS_MX']>=30) |\n",
    "# overheat\n",
    "    ((vhms_trend_hd785_selected['COOL_TEMP_MX']>=101) & (vhms_trend_hd785_selected['ENG_OIL_TMP_MX']>=121)) |\n",
    "# low e_oil press\n",
    "    ((vhms_trend_hd785_selected['E_OIL_P_HI_MN']<0.205) & (vhms_trend_hd785_selected['E_OIL_P_LO_MN']<0.049))\n",
    "]"
   ]
  },
  {
   "cell_type": "code",
   "execution_count": 291,
   "metadata": {
    "scrolled": false
   },
   "outputs": [
    {
     "name": "stdout",
     "output_type": "stream",
     "text": [
      "2019-04-24 13:20:54: Fitting sensor error scaler with data\n",
      "\t2019-04-24 13:20:54: Separate sensor value from mean calculation\n",
      "\t2019-04-24 13:20:54: Computing average value of each equipment\n",
      "\t2019-04-24 13:20:54: Computing average value of all equipment\n",
      "\t2019-04-24 13:20:54: Finish fitting scaler\n",
      "2019-04-24 13:20:54: Transforming data\n",
      "\t2019-04-24 13:20:54: Replacing error value with average for each serial number\n",
      "2019-04-24 13:20:54: Deriving expression \n",
      "\tX['MED_EXH_TEMP'] = X[['LF_EXH_TEMP_MX', 'LR_EXH_TEMP_MX', 'RF_EXH_TEMP_MX', 'RR_EXH_TEMP_MX']].median(axis=1)\n",
      "2019-04-24 13:20:54: Deriving expression \n",
      "\tX['COOL_TEMP_MID'] = (X['COOL_TEMP_MX'] + X['COOL_TEMP_MN'])/2\n",
      "2019-04-24 13:20:54: Deriving expression \n",
      "\tX['COOL_TEMP_RANGE'] = (X['COOL_TEMP_MX'] - X['COOL_TEMP_MN'])\n",
      "2019-04-24 13:20:54: Deriving expression \n",
      "\tX['FUEL_PER_ENGINE_CYCLE'] = X['FUEL_RATE']*1E6/(60*X['ENG_SPEED_AV'])\n",
      "2019-04-24 13:20:54: Deriving expression \n",
      "\tX['COOL_TEMP_GRADIENT'] = X['ENG_OIL_TMP_MX']/X['COOL_TEMP_MX']\n",
      "2019-04-24 13:20:54: Deriving expression \n",
      "\tX['ENG_SPEED_RANGE'] = X['ENG_SPEED_MX'] - X['ENG_SPEED_AV']\n",
      "2019-04-24 13:20:54: Deriving expression \n",
      "\tX['RPM_TO_SPEED_RATIO'] = np.log(X['ENG_SPEED_MX'].tolist())/np.log(X['TRAVELSPEED_MX'].tolist())\n"
     ]
    }
   ],
   "source": [
    "# Union all failure records\n",
    "vhms_hd785_failure = pd.concat([vhms_from_fault, vhms_from_replacement, vhms_from_rule_abnormality])\n",
    "vhms_hd785_failure = vhms_hd785_failure[vhms_hd785_failure[\"SMR\"]>=6000]\n",
    "vhms_hd785_failure['TIMESTAMP'] = vhms_hd785_failure['TIMESTAMP'].map(lambda x: str(x)[:19])\n",
    "vhms_hd785_failure = vhms_hd785_failure.drop_duplicates()\n",
    "\n",
    "vhms_failure_cleaning_pipe = Pipeline([\n",
    "    ('sensor-error-handling', VHMSReplaceSensorErrorValue(primary_features)),\n",
    "    ('features-derivator', DeriveInteractionFeatures(derivative_expressions)), \n",
    "])\n",
    "\n",
    "vhms_hd785_failure_transformed = vhms_failure_cleaning_pipe.fit_transform(vhms_hd785_failure.copy())\n",
    "vhms_hd785_failure_transformed['failure'] = 1"
   ]
  },
  {
   "cell_type": "markdown",
   "metadata": {},
   "source": [
    "## Combine VHMS Failure and Early"
   ]
  },
  {
   "cell_type": "code",
   "execution_count": 292,
   "metadata": {},
   "outputs": [
    {
     "data": {
      "text/plain": [
       "failure\n",
       "0    13781\n",
       "1      867\n",
       "Name: TIMESTAMP, dtype: int64"
      ]
     },
     "execution_count": 292,
     "metadata": {},
     "output_type": "execute_result"
    }
   ],
   "source": [
    "vhms_dataset = reduce_by_key(\n",
    "    pd.concat([vhms_hd785_early_transformed, vhms_hd785_failure_transformed]),\n",
    "    group_key = ['UNIT_SRL_NUM', 'TIMESTAMP'],\n",
    "    sort_key = ['failure'])\n",
    "vhms_dataset[primary_features] = vhms_dataset[primary_features].astype(float)\n",
    "vhms_dataset[final_features] = vhms_dataset[final_features].astype(float)\n",
    "vhms_dataset['UNIT_SRL_NUM'] = vhms_dataset['UNIT_SRL_NUM'].astype(str)\n",
    "vhms_dataset['TIMESTAMP'] = vhms_dataset['TIMESTAMP'].astype(str)\n",
    "vhms_dataset = vhms_dataset[~vhms_dataset.isnull().any(axis=1)]\n",
    "\n",
    "vhms_dataset.groupby('failure')['TIMESTAMP'].count()"
   ]
  },
  {
   "cell_type": "markdown",
   "metadata": {},
   "source": [
    "# Add Contract and Plant Details"
   ]
  },
  {
   "cell_type": "code",
   "execution_count": 293,
   "metadata": {},
   "outputs": [],
   "source": [
    "unit_population_latest_hd785 = unit_population_latest[unit_population_latest['MODL_NUM']=='HD785-7'][['SRL_NUM', 'CONTRACT']]\n",
    "unit_population_latest_hd785.columns = ['UNIT_SRL_NUM', 'CONTRACT']\n",
    "\n",
    "vhms_x_info_dataset = pd.merge(\n",
    "    vhms_dataset, unit_population_latest_hd785,\n",
    "    how='inner', on='UNIT_SRL_NUM'\n",
    ")"
   ]
  },
  {
   "cell_type": "code",
   "execution_count": 294,
   "metadata": {},
   "outputs": [
    {
     "data": {
      "text/plain": [
       "CONTRACT  failure\n",
       "FMC       0           2025\n",
       "          1            364\n",
       "NON-FMC   0          11756\n",
       "          1            503\n",
       "Name: UNIT_SRL_NUM, dtype: int64"
      ]
     },
     "execution_count": 294,
     "metadata": {},
     "output_type": "execute_result"
    }
   ],
   "source": [
    "vhms_x_info_dataset.groupby(['CONTRACT', 'failure'])['UNIT_SRL_NUM'].count()"
   ]
  },
  {
   "cell_type": "markdown",
   "metadata": {},
   "source": [
    "# Add PAP To Dataset"
   ]
  },
  {
   "cell_type": "code",
   "execution_count": 295,
   "metadata": {},
   "outputs": [],
   "source": [
    "def join_vhms_with_pap(vhms, pap):\n",
    "    pysql = lambda q: sqldf(q, locals())\n",
    "    \n",
    "    query = \"\"\"\n",
    "        SELECT \n",
    "            vhms.*, pap.LAB_NUM, pap.SAMPL_DT\n",
    "        FROM vhms\n",
    "        LEFT JOIN pap\n",
    "            ON pap.SRL_NUM = vhms.UNIT_SRL_NUM AND\n",
    "               vhms.TIMESTAMP >= pap.SAMPL_DT AND\n",
    "               vhms.TIMESTAMP < date(pap.SAMPL_DT,'+30 day')\n",
    "        ORDER BY UNIT_SRL_NUM, TIMESTAMP, SAMPL_DT DESC\n",
    "    \"\"\"\n",
    "    \n",
    "    return sqldf(query, locals())"
   ]
  },
  {
   "cell_type": "code",
   "execution_count": 296,
   "metadata": {},
   "outputs": [],
   "source": [
    "pap_engine_hd785 = pap_oil[(pap_oil['MODL_NUM']=='HD785-7') & (pap_oil['COMPONENT']=='ENGINE')]\n",
    "pap_engine_hd785['SRL_NUM'] = pap_engine_hd785['SRL_NUM'].astype(str)\n",
    "pap_engine_hd785['SAMPL_DT'] = pap_engine_hd785['SAMPL_DT'].astype(str)\n",
    "pap_engine_hd785_index = pap_engine_hd785[['LAB_NUM', 'SRL_NUM', 'MODL_NUM', 'HRS_KM_TOT', 'SAMPL_DT']]"
   ]
  },
  {
   "cell_type": "code",
   "execution_count": 297,
   "metadata": {},
   "outputs": [],
   "source": [
    "vhms_x_pap_dataset = reduce_by_key(\n",
    "    join_vhms_with_pap(vhms_x_info_dataset, pap_engine_hd785_index),\n",
    "    group_key = ['UNIT_SRL_NUM', 'TIMESTAMP'],\n",
    "    sort_key = ['SAMPL_DT'])\n",
    "vhms_x_pap_dataset['has_pap'] = vhms_x_pap_dataset['LAB_NUM'].map(lambda x: 1 if x is not None and x==x else 0)"
   ]
  },
  {
   "cell_type": "code",
   "execution_count": 298,
   "metadata": {},
   "outputs": [
    {
     "data": {
      "text/plain": [
       "has_pap  failure\n",
       "0        0          11597\n",
       "         1            496\n",
       "1        0           2184\n",
       "         1            371\n",
       "Name: UNIT_SRL_NUM, dtype: int64"
      ]
     },
     "execution_count": 298,
     "metadata": {},
     "output_type": "execute_result"
    }
   ],
   "source": [
    "vhms_x_pap_dataset.groupby(['has_pap','failure'])['UNIT_SRL_NUM'].count()"
   ]
  },
  {
   "cell_type": "markdown",
   "metadata": {},
   "source": [
    "# Build Model With VHMS Only (Without PAP)\n",
    "\n",
    "We only get few records that have PAP match. So we will try to build two models, without adn with PAP and compare both results. This section is for the first approach"
   ]
  },
  {
   "cell_type": "markdown",
   "metadata": {},
   "source": [
    "### Under-sample healthy records to balance the label"
   ]
  },
  {
   "cell_type": "code",
   "execution_count": 299,
   "metadata": {},
   "outputs": [
    {
     "data": {
      "text/plain": [
       "CONTRACT  failure\n",
       "FMC       0          364\n",
       "          1          364\n",
       "NON-FMC   0          506\n",
       "          1          503\n",
       "Name: UNIT_SRL_NUM, dtype: int64"
      ]
     },
     "execution_count": 299,
     "metadata": {},
     "output_type": "execute_result"
    }
   ],
   "source": [
    "# randomly sample 18% of fmc healthy data\n",
    "fmc_healthy = vhms_x_info_dataset[(vhms_x_info_dataset['failure']==0) & \n",
    "                                  (vhms_x_info_dataset['CONTRACT']=='FMC')].sample(frac=0.18)\n",
    "\n",
    "# and randomly sample 4.3% of non-fmc healthy data\n",
    "nonfmc_healthy = vhms_x_info_dataset[(vhms_x_info_dataset['failure']==0) & \n",
    "                                     (vhms_x_info_dataset['CONTRACT']=='NON-FMC')].sample(frac=0.043)\n",
    "\n",
    "# combine fmc and non-fmc healthy data with failure data\n",
    "vhms_dataset_resample = pd.concat([fmc_healthy, \n",
    "                                   nonfmc_healthy, \n",
    "                                   vhms_x_info_dataset[vhms_x_info_dataset['failure']==1]\n",
    "                                  ])\n",
    "vhms_dataset_resample.groupby(['CONTRACT', 'failure'])['UNIT_SRL_NUM'].count()"
   ]
  },
  {
   "cell_type": "markdown",
   "metadata": {},
   "source": [
    "### Train A Random Forest Classifiers"
   ]
  },
  {
   "cell_type": "code",
   "execution_count": 300,
   "metadata": {},
   "outputs": [],
   "source": [
    "from sklearn.ensemble import RandomForestClassifier as RFC\n",
    "from sklearn.model_selection import train_test_split\n",
    "from sklearn.metrics import confusion_matrix\n",
    "from sklearn.utils.multiclass import unique_labels"
   ]
  },
  {
   "cell_type": "code",
   "execution_count": 301,
   "metadata": {
    "scrolled": true
   },
   "outputs": [],
   "source": [
    "health_score_model = RFC(n_estimators=100, min_samples_split=10)\n",
    "X = vhms_dataset_resample[final_features]\n",
    "y = vhms_dataset_resample['failure']\n",
    "\n",
    "X_train, X_test, y_train, y_test = train_test_split(X, y, test_size=0.33, random_state=42)\n",
    "\n",
    "health_score_model.fit(X_train, y_train)\n",
    "y_pred = health_score_model.predict(X_test)\n",
    "health_score = health_score_model.predict_proba(X_test)\n",
    "np.sum(y_test==y_pred)/len(y_test)\n",
    "\n",
    "health_score_result = pd.DataFrame({\n",
    "    \"failure\": y_test, \n",
    "    \"health_score\": health_score[:,0],\n",
    "    \"prediction\": y_pred\n",
    "})"
   ]
  },
  {
   "cell_type": "markdown",
   "metadata": {},
   "source": [
    "### Accuracy on Testing Data"
   ]
  },
  {
   "cell_type": "code",
   "execution_count": 302,
   "metadata": {
    "scrolled": true
   },
   "outputs": [
    {
     "data": {
      "image/png": "[encoded data removed]",
      "text/plain": [
       "<Figure size 432x288 with 2 Axes>"
      ]
     },
     "metadata": {
      "needs_background": "light"
     },
     "output_type": "display_data"
    },
    {
     "data": {
      "image/png": "[encoded data removed]",
      "text/plain": [
       "<Figure size 432x288 with 2 Axes>"
      ]
     },
     "metadata": {
      "needs_background": "light"
     },
     "output_type": "display_data"
    },
    {
     "data": {
      "text/html": [
       "<div>\n",
       "<style scoped>\n",
       "    .dataframe tbody tr th:only-of-type {\n",
       "        vertical-align: middle;\n",
       "    }\n",
       "\n",
       "    .dataframe tbody tr th {\n",
       "        vertical-align: top;\n",
       "    }\n",
       "\n",
       "    .dataframe thead th {\n",
       "        text-align: right;\n",
       "    }\n",
       "</style>\n",
       "<table border=\"1\" class=\"dataframe\">\n",
       "  <thead>\n",
       "    <tr style=\"text-align: right;\">\n",
       "      <th></th>\n",
       "      <th>count</th>\n",
       "      <th>min</th>\n",
       "      <th>mean</th>\n",
       "      <th>median</th>\n",
       "      <th>max</th>\n",
       "      <th>std</th>\n",
       "    </tr>\n",
       "    <tr>\n",
       "      <th>failure</th>\n",
       "      <th></th>\n",
       "      <th></th>\n",
       "      <th></th>\n",
       "      <th></th>\n",
       "      <th></th>\n",
       "      <th></th>\n",
       "    </tr>\n",
       "  </thead>\n",
       "  <tbody>\n",
       "    <tr>\n",
       "      <th>0</th>\n",
       "      <td>287</td>\n",
       "      <td>0.156308</td>\n",
       "      <td>0.793195</td>\n",
       "      <td>0.864654</td>\n",
       "      <td>0.998889</td>\n",
       "      <td>0.195843</td>\n",
       "    </tr>\n",
       "    <tr>\n",
       "      <th>1</th>\n",
       "      <td>287</td>\n",
       "      <td>0.000000</td>\n",
       "      <td>0.173364</td>\n",
       "      <td>0.119289</td>\n",
       "      <td>0.840585</td>\n",
       "      <td>0.170930</td>\n",
       "    </tr>\n",
       "  </tbody>\n",
       "</table>\n",
       "</div>"
      ],
      "text/plain": [
       "         count       min      mean    median       max       std\n",
       "failure                                                         \n",
       "0          287  0.156308  0.793195  0.864654  0.998889  0.195843\n",
       "1          287  0.000000  0.173364  0.119289  0.840585  0.170930"
      ]
     },
     "execution_count": 302,
     "metadata": {},
     "output_type": "execute_result"
    }
   ],
   "source": [
    "plot_confusion_matrix(y_test, y_pred, classes=['healthy', 'failure'], normalize=True)\n",
    "plot_confusion_matrix(y_test, y_pred, classes=['healthy', 'failure'], normalize=False)\n",
    "plt.show()\n",
    "health_score_result.groupby('failure')['health_score'].agg(['count','min', 'mean', 'median', 'max', 'std'])"
   ]
  },
  {
   "cell_type": "markdown",
   "metadata": {},
   "source": [
    "### Accuracy on Discarded Data (All Healthy)"
   ]
  },
  {
   "cell_type": "code",
   "execution_count": 303,
   "metadata": {},
   "outputs": [
    {
     "name": "stdout",
     "output_type": "stream",
     "text": [
      "Accuracy:  0.8974832444262071\n",
      "Average HS:  0.7505108577644295\n",
      "Median HS:  0.8415766777082565\n",
      "Standard Deviation HS:  0.2429601565610073\n"
     ]
    }
   ],
   "source": [
    "discarded = vhms_dataset.loc[[i for i in vhms_dataset.index if i not in vhms_dataset_resample.index]]\n",
    "X_discarded = discarded[final_features]\n",
    "y_discarded = discarded['failure']\n",
    "y_pred = health_score_model.predict(X_discarded)\n",
    "health_score = health_score_model.predict_proba(X_discarded)\n",
    "print(\"Accuracy: \", np.sum(y_discarded==y_pred)/len(y_discarded))\n",
    "print(\"Average HS: \", np.mean(health_score[:,0]))\n",
    "print(\"Median HS: \", np.median(health_score[:,0]))\n",
    "print(\"Standard Deviation HS: \", np.std(health_score[:,0]))"
   ]
  },
  {
   "cell_type": "markdown",
   "metadata": {},
   "source": [
    "### Degradation Curve Towards End of Lifetime"
   ]
  },
  {
   "cell_type": "code",
   "execution_count": 304,
   "metadata": {},
   "outputs": [
    {
     "name": "stdout",
     "output_type": "stream",
     "text": [
      "2019-04-24 13:20:57: Fitting sensor error scaler with data\n",
      "\t2019-04-24 13:20:57: Separate sensor value from mean calculation\n",
      "\t2019-04-24 13:20:58: Computing average value of each equipment\n",
      "\t2019-04-24 13:21:16: Computing average value of all equipment\n",
      "\t2019-04-24 13:21:16: Finish fitting scaler\n",
      "2019-04-24 13:21:16: Transforming data\n",
      "\t2019-04-24 13:21:16: Replacing error value with average for each serial number\n"
     ]
    },
    {
     "data": {
      "text/plain": [
       "Pipeline(memory=None,\n",
       "     steps=[('sensor-error-handling', VHMSReplaceSensorErrorValue(features=array(['ENG_SPEED_MX', 'ENG_SPEED_AV', 'BLOWBY_PRESS_MX',\n",
       "       'LF_EXH_TEMP_MX', 'LR_EXH_TEMP_MX', 'RF_EXH_TEMP_MX',\n",
       "       'RR_EXH_TEMP_MX', 'BOOST_PRESS_MX', 'E_OIL_P_MX', 'E_OIL_P_LO_MN',\n",
       "       'E_OIL_P_HI_MN', 'ENG_OIL_TMP_...'RPM_TO_SPEED_RATIO'] = np.log(X['ENG_SPEED_MX'].tolist())/np.log(X['TRAVELSPEED_MX'].tolist())\"]))])"
      ]
     },
     "execution_count": 304,
     "metadata": {},
     "output_type": "execute_result"
    }
   ],
   "source": [
    "vhms_scoring_cleaning_pipe = Pipeline([\n",
    "    ('sensor-error-handling', VHMSReplaceSensorErrorValue(primary_features)),\n",
    "    ('features-derivator', DeriveInteractionFeatures(derivative_expressions)), \n",
    "])\n",
    "vhms_scoring_cleaning_pipe.fit(vhms_trend_hd785_selected.copy())"
   ]
  },
  {
   "cell_type": "code",
   "execution_count": 413,
   "metadata": {},
   "outputs": [
    {
     "name": "stdout",
     "output_type": "stream",
     "text": [
      "2019-04-25 08:03:45: Transforming data\n",
      "\t2019-04-25 08:03:45: Replacing error value with average for each serial number\n",
      "2019-04-25 08:03:45: Deriving expression \n",
      "\tX['MED_EXH_TEMP'] = X[['LF_EXH_TEMP_MX', 'LR_EXH_TEMP_MX', 'RF_EXH_TEMP_MX', 'RR_EXH_TEMP_MX']].median(axis=1)\n",
      "2019-04-25 08:03:45: Deriving expression \n",
      "\tX['COOL_TEMP_MID'] = (X['COOL_TEMP_MX'] + X['COOL_TEMP_MN'])/2\n",
      "2019-04-25 08:03:45: Deriving expression \n",
      "\tX['COOL_TEMP_RANGE'] = (X['COOL_TEMP_MX'] - X['COOL_TEMP_MN'])\n",
      "2019-04-25 08:03:45: Deriving expression \n",
      "\tX['FUEL_PER_ENGINE_CYCLE'] = X['FUEL_RATE']*1E6/(60*X['ENG_SPEED_AV'])\n",
      "2019-04-25 08:03:45: Deriving expression \n",
      "\tX['COOL_TEMP_GRADIENT'] = X['ENG_OIL_TMP_MX']/X['COOL_TEMP_MX']\n",
      "2019-04-25 08:03:45: Deriving expression \n",
      "\tX['ENG_SPEED_RANGE'] = X['ENG_SPEED_MX'] - X['ENG_SPEED_AV']\n",
      "2019-04-25 08:03:45: Deriving expression \n",
      "\tX['RPM_TO_SPEED_RATIO'] = np.log(X['ENG_SPEED_MX'].tolist())/np.log(X['TRAVELSPEED_MX'].tolist())\n"
     ]
    },
    {
     "data": {
      "image/png": "[encoded data removed]",
      "text/plain": [
       "<Figure size 1440x432 with 1 Axes>"
      ]
     },
     "metadata": {
      "needs_background": "light"
     },
     "output_type": "display_data"
    },
    {
     "name": "stdout",
     "output_type": "stream",
     "text": [
      "index                               4315\n",
      "SRL_NUM                            30025\n",
      "MODL_NUM                         HD785-7\n",
      "ROOM                              HD1134\n",
      "PLNT                                 BKJ\n",
      "SORT_FLD                             NaN\n",
      "CUSTOMER_NAME           SIMS JAYA KALTIM\n",
      "CONTRACT                             FMC\n",
      "LAST_UPDATED_DATE    2014-06-13 00:00:00\n",
      "Name: 0, dtype: object\n"
     ]
    }
   ],
   "source": [
    "srl_num = '30025'\n",
    "training_set = vhms_dataset_resample.loc[[i for i in vhms_dataset_resample.index if i in X_train.index]]\n",
    "equipment_sample = vhms_scoring_cleaning_pipe.transform(\n",
    "    vhms_trend_hd785_selected[vhms_trend_hd785_selected['UNIT_SRL_NUM']==srl_num].copy()).sort_values('SMR')\n",
    "X = equipment_sample[final_features]\n",
    "equipment_sample['health_score'] = health_score_model.predict_proba(X)[:,0]\n",
    "equipment_sample['training_set'] = equipment_sample['SMR'].map(\n",
    "    lambda x: x in training_set[training_set['UNIT_SRL_NUM']==srl_num]['SMR'].tolist())\n",
    "\n",
    "plt.figure(figsize=(20,6))\n",
    "plt.plot(equipment_sample['SMR'], equipment_sample['health_score'])\n",
    "plt.plot(equipment_sample[equipment_sample['training_set']==True]['SMR'], \n",
    "         equipment_sample[equipment_sample['training_set']==True]['health_score'], 'o')\n",
    "plt.grid()\n",
    "plt.legend(['Health Score Trend','Point Included in Training Set'])\n",
    "plt.show()\n",
    "\n",
    "equipment_info = unit_population_latest[\n",
    "    (unit_population_latest['SRL_NUM']==srl_num) & (unit_population_latest['MODL_NUM']=='HD785-7')].reset_index().loc[0]\n",
    "print(equipment_info)"
   ]
  },
  {
   "cell_type": "code",
   "execution_count": 311,
   "metadata": {
    "scrolled": true
   },
   "outputs": [
    {
     "data": {
      "text/html": [
       "<div>\n",
       "<style scoped>\n",
       "    .dataframe tbody tr th:only-of-type {\n",
       "        vertical-align: middle;\n",
       "    }\n",
       "\n",
       "    .dataframe tbody tr th {\n",
       "        vertical-align: top;\n",
       "    }\n",
       "\n",
       "    .dataframe thead th {\n",
       "        text-align: right;\n",
       "    }\n",
       "</style>\n",
       "<table border=\"1\" class=\"dataframe\">\n",
       "  <thead>\n",
       "    <tr style=\"text-align: right;\">\n",
       "      <th></th>\n",
       "      <th>features</th>\n",
       "      <th>importances</th>\n",
       "    </tr>\n",
       "  </thead>\n",
       "  <tbody>\n",
       "    <tr>\n",
       "      <th>1</th>\n",
       "      <td>BLOWBY_PRESS_MX</td>\n",
       "      <td>0.353831</td>\n",
       "    </tr>\n",
       "    <tr>\n",
       "      <th>5</th>\n",
       "      <td>E_OIL_P_HI_MN</td>\n",
       "      <td>0.116573</td>\n",
       "    </tr>\n",
       "    <tr>\n",
       "      <th>2</th>\n",
       "      <td>BOOST_PRESS_MX</td>\n",
       "      <td>0.088401</td>\n",
       "    </tr>\n",
       "    <tr>\n",
       "      <th>4</th>\n",
       "      <td>E_OIL_P_LO_MN</td>\n",
       "      <td>0.067870</td>\n",
       "    </tr>\n",
       "    <tr>\n",
       "      <th>8</th>\n",
       "      <td>COOL_TEMP_MX</td>\n",
       "      <td>0.054300</td>\n",
       "    </tr>\n",
       "    <tr>\n",
       "      <th>14</th>\n",
       "      <td>RPM_TO_SPEED_RATIO</td>\n",
       "      <td>0.043921</td>\n",
       "    </tr>\n",
       "    <tr>\n",
       "      <th>12</th>\n",
       "      <td>COOL_TEMP_GRADIENT</td>\n",
       "      <td>0.037824</td>\n",
       "    </tr>\n",
       "    <tr>\n",
       "      <th>7</th>\n",
       "      <td>FUEL_RATE</td>\n",
       "      <td>0.036400</td>\n",
       "    </tr>\n",
       "    <tr>\n",
       "      <th>11</th>\n",
       "      <td>FUEL_PER_ENGINE_CYCLE</td>\n",
       "      <td>0.035535</td>\n",
       "    </tr>\n",
       "    <tr>\n",
       "      <th>9</th>\n",
       "      <td>COOL_TEMP_MID</td>\n",
       "      <td>0.030233</td>\n",
       "    </tr>\n",
       "    <tr>\n",
       "      <th>13</th>\n",
       "      <td>ENG_SPEED_RANGE</td>\n",
       "      <td>0.027800</td>\n",
       "    </tr>\n",
       "    <tr>\n",
       "      <th>3</th>\n",
       "      <td>E_OIL_P_MX</td>\n",
       "      <td>0.027353</td>\n",
       "    </tr>\n",
       "    <tr>\n",
       "      <th>6</th>\n",
       "      <td>ENG_OIL_TMP_MX</td>\n",
       "      <td>0.027321</td>\n",
       "    </tr>\n",
       "    <tr>\n",
       "      <th>10</th>\n",
       "      <td>COOL_TEMP_RANGE</td>\n",
       "      <td>0.027080</td>\n",
       "    </tr>\n",
       "    <tr>\n",
       "      <th>0</th>\n",
       "      <td>ENG_SPEED_MX</td>\n",
       "      <td>0.025559</td>\n",
       "    </tr>\n",
       "  </tbody>\n",
       "</table>\n",
       "</div>"
      ],
      "text/plain": [
       "                 features  importances\n",
       "1         BLOWBY_PRESS_MX     0.353831\n",
       "5           E_OIL_P_HI_MN     0.116573\n",
       "2          BOOST_PRESS_MX     0.088401\n",
       "4           E_OIL_P_LO_MN     0.067870\n",
       "8            COOL_TEMP_MX     0.054300\n",
       "14     RPM_TO_SPEED_RATIO     0.043921\n",
       "12     COOL_TEMP_GRADIENT     0.037824\n",
       "7               FUEL_RATE     0.036400\n",
       "11  FUEL_PER_ENGINE_CYCLE     0.035535\n",
       "9           COOL_TEMP_MID     0.030233\n",
       "13        ENG_SPEED_RANGE     0.027800\n",
       "3              E_OIL_P_MX     0.027353\n",
       "6          ENG_OIL_TMP_MX     0.027321\n",
       "10        COOL_TEMP_RANGE     0.027080\n",
       "0            ENG_SPEED_MX     0.025559"
      ]
     },
     "execution_count": 311,
     "metadata": {},
     "output_type": "execute_result"
    }
   ],
   "source": [
    "pd.DataFrame({\n",
    "    \"features\": final_features,\n",
    "    \"importances\": health_score_model.feature_importances_\n",
    "}).sort_values('importances', ascending=False)"
   ]
  },
  {
   "cell_type": "markdown",
   "metadata": {},
   "source": [
    "## ----------- end here -------------"
   ]
  },
  {
   "cell_type": "code",
   "execution_count": 310,
   "metadata": {},
   "outputs": [],
   "source": [
    "def plot_confusion_matrix(y_true, y_pred, classes,\n",
    "                          normalize=False,\n",
    "                          title=None,\n",
    "                          cmap=plt.cm.Blues):\n",
    "    \"\"\"\n",
    "    This function prints and plots the confusion matrix.\n",
    "    Normalization can be applied by setting `normalize=True`.\n",
    "    \"\"\"\n",
    "    if not title:\n",
    "        if normalize:\n",
    "            title = 'Normalized confusion matrix'\n",
    "        else:\n",
    "            title = 'Confusion matrix, without normalization'\n",
    "\n",
    "    # Compute confusion matrix\n",
    "    cm = confusion_matrix(y_true, y_pred)\n",
    "    # Only use the labels that appear in the data\n",
    "#     classes = classes[unique_labels(y_true, y_pred)]\n",
    "    if normalize:\n",
    "        cm = cm.astype('float') / cm.sum(axis=1)[:, np.newaxis]\n",
    "\n",
    "    fig, ax = plt.subplots()\n",
    "    im = ax.imshow(cm, interpolation='nearest', cmap=cmap)\n",
    "    ax.figure.colorbar(im, ax=ax)\n",
    "    # We want to show all ticks...\n",
    "    ax.set(xticks=np.arange(cm.shape[1]),\n",
    "           yticks=np.arange(cm.shape[0]),\n",
    "           # ... and label them with the respective list entries\n",
    "           xticklabels=classes, yticklabels=classes,\n",
    "           title=title,\n",
    "           ylabel='True label',\n",
    "           xlabel='Predicted label')\n",
    "\n",
    "    # Rotate the tick labels and set their alignment.\n",
    "    plt.setp(ax.get_xticklabels(), rotation=45, ha=\"right\",\n",
    "             rotation_mode=\"anchor\")\n",
    "\n",
    "    # Loop over data dimensions and create text annotations.\n",
    "    fmt = '.2f' if normalize else 'd'\n",
    "    thresh = cm.max() / 2.\n",
    "    for i in range(cm.shape[0]):\n",
    "        for j in range(cm.shape[1]):\n",
    "            ax.text(j, i, format(cm[i, j], fmt),\n",
    "                    ha=\"center\", va=\"center\",\n",
    "                    color=\"white\" if cm[i, j] > thresh else \"black\")\n",
    "    fig.tight_layout()\n",
    "    return ax"
   ]
  }
 ],
 "metadata": {
  "kernelspec": {
   "display_name": "Python 3",
   "language": "python",
   "name": "python3"
  },
  "language_info": {
   "codemirror_mode": {
    "name": "ipython",
    "version": 3
   },
   "file_extension": ".py",
   "mimetype": "text/x-python",
   "name": "python",
   "nbconvert_exporter": "python",
   "pygments_lexer": "ipython3",
   "version": "3.7.2"
  }
 },
 "nbformat": 4,
 "nbformat_minor": 2
}
